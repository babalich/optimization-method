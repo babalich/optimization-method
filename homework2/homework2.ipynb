{
 "cells": [
  {
   "cell_type": "code",
   "execution_count": 1,
   "metadata": {},
   "outputs": [],
   "source": [
    "import numpy as np\n",
    "import matplotlib.pyplot as plt"
   ]
  },
  {
   "cell_type": "markdown",
   "metadata": {},
   "source": [
    "#### Задача 2\n",
    "Предприятие выпускает покрышки и надувные лодки.\n",
    "Производство одной покрышки занимает 2 часа на заготовительном участке, 4 часа на участке обработки, 0 часов на участке сборки.\n",
    "Производство одной лодки занимает 6 часов на заготовительном участке, 3 часа на участке обработки, 2 часа на участке сборки.\n",
    "Стоимость одной лодки — 12000 рублей, стоимость покрышки — 7000 рублей.\n",
    "Фонд времени в день: заготовительного участка — 14 нормочасов, участка обработки — 10 нч, участка сборки — 8 нч.\n",
    "Составить ЦФ, записать ограничения и функцию Лагранжа для решения этой задачи.\n",
    "* Разработать оптимальный производственный план предприятия."
   ]
  },
  {
   "cell_type": "markdown",
   "metadata": {},
   "source": [
    "$F = 7000n_1+12000n_2,  n_1 - покрышки,   n_2 - лодки $<br>\n",
    "$(n_1^*, n_2^*): F(n_1^*, n_2^*) = \\max(F)$<br> <br>\n",
    "Запишем ограничения по загрузке цехов исходя из того, что мы хотим максимизировать прибыль за день. <br>\n",
    "$2n_1+6n_2 \\leq 14$ - заготовительный участок<br>\n",
    "$4n_1+3n_2 \\leq 10$ - участков обработки<br>\n",
    "$0n_1+2n_2 \\leq 8$ - участок сборки <br>\n",
    "\n",
    "$L(n_1,n_2,\\lambda_1,\\lambda_2, \\lambda_3) = 7000n_1+12000n_2 + \\lambda_1(2n_1+6n_2 - 14) + \\lambda_2(4n_1+3n_2 - 10) + \\lambda_3(2n_2 - 8) $<br>\n",
    "получаем следующие уравления <br>\n",
    "$7000 + 2\\lambda_1 = 0$ <br>\n",
    "$12000 + 3\\lambda_2 + 2\\lambda_3= 0$ <br>\n",
    "$2n_1+6n_2 - 14 = 0$ <br>\n",
    "$4n_1+3n_2 - 10 = 0 $ <br>\n",
    "$2n_2 - 8 = 0$ <br> <br> "
   ]
  },
  {
   "cell_type": "code",
   "execution_count": 2,
   "metadata": {},
   "outputs": [
    {
     "data": {
      "image/png": "[encoded data removed]",
      "text/plain": [
       "<Figure size 432x432 with 1 Axes>"
      ]
     },
     "metadata": {
      "needs_background": "light"
     },
     "output_type": "display_data"
    }
   ],
   "source": [
    "n1 = np.arange(0, 4, 1)\n",
    "n2_1 = (8 + n1*0)/2\n",
    "n2_2 = (14-n1*2)/6\n",
    "n2_3 = (10-4*n1)/3\n",
    "\n",
    "plt.figure(figsize=(6, 6))\n",
    "plt.plot(n1, n2_1)\n",
    "plt.plot(n1, n2_2)\n",
    "plt.plot(n1, n2_3)\n",
    "plt.xlabel('n1')\n",
    "plt.ylabel('n2')\n",
    "plt.grid()"
   ]
  },
  {
   "cell_type": "markdown",
   "metadata": {},
   "source": [
    "Мы видим решения $n_1 = 1$ и $n_2 = 2$.  <br>\n",
    "Таким образом чтобы максимизировать прибыль в день, нам нужно сделать 1 покрышку и 2 лодки. \n",
    "$F = 7000*1+12000*2 = 31 000$  <br>\n",
    "Посмотрим на загруженность по участкам: <br>\n",
    "$2 + 12 \\leq 14$ - заготовительный участок<br>\n",
    "$4+6 \\leq 10$ - участков обработки<br>\n",
    "$4 \\leq 8$ - участок сборки <br>\n",
    "Таким образом можно рекомандовать делать 1 покрышку и 2 лодки в день, а так же сократить фонд времени на участок сборки в два раза"
   ]
  },
  {
   "cell_type": "markdown",
   "metadata": {},
   "source": [
    "#### Задача 1\n",
    "Директор выделил машину под закупку оборудования, выделил достаточно большое количество денег и сказал: «Берите, что вам нужно, но не более 200 кг. И каждого товара берите не более одной единицы!» Есть прайс-лист на 2000 наименований.\n",
    "Стоимости товаров варьируются от 100 до 5000 с шагом 100.\n",
    "Массы товаров варьируются от 1 до 150 кг с шагом в 1 кг.\n",
    "Зависимостей между массой и стоимостью нет (может выпасть товар массой 1 кг и стоимостью 5000 и массой 150 кг и стоимостью 100.\n",
    "Необходимо составить ЦФ для этой задачи, выбрать критерий оптимальности и...\n",
    "* ...предложить алгоритм её решения"
   ]
  },
  {
   "cell_type": "markdown",
   "metadata": {},
   "source": [
    "Мы будем решать следующий вариант: мы ходим максимально заполнить нашу машину, при этом потратить минимальное количество денег. <br>\n",
    "$i$ - позиция в прайсе, от 1 до 2000 <br>\n",
    "$w_i$ - вес i-ой позиции <br>\n",
    "$c_i$ - цена i-ой позиции <br>\n",
    "$ x_{i} = \\begin{cases} 1, если \\space мы \\space берем \"i\" товар\\\\\n",
    "0, в\\spaceпротивном\\spaceслучае. \\end {cases}$ <br>"
   ]
  },
  {
   "cell_type": "markdown",
   "metadata": {},
   "source": [
    "Тогда получаем функции для оптимизации: <br>\n",
    "$F_1 = \\sum_{i=1}^{2000} c_{i} x_{i} \\rightarrow min$ - хотим потратить минимум денег. Но мы потратим минимум денег, если ничего не купим <br>\n",
    "$F_2  = \\sum_{i=1}^{2000} w_{i} x_{i} \\rightarrow max$ - при этом мы хотим максимально загрузить нашу машину <br><br>\n",
    "$F = F_2 - F_1 \\rightarrow max$ <br>\n",
    "но так же мы имеем ограничение на вместительность: $\\sum_{i=1}^{2000} w_{i} x_{i} \\leq 200$"
   ]
  },
  {
   "cell_type": "code",
   "execution_count": 21,
   "metadata": {},
   "outputs": [],
   "source": [
    "import pandas as pd"
   ]
  },
  {
   "cell_type": "code",
   "execution_count": 26,
   "metadata": {},
   "outputs": [],
   "source": [
    "price = pd.DataFrame()\n",
    "price['cost'] = [np.random.randint(1, 50)*100 for i in range(2000)]\n",
    "price['weight'] = [np.random.randint(1, 150) for i in range(2000)]"
   ]
  },
  {
   "cell_type": "code",
   "execution_count": 28,
   "metadata": {},
   "outputs": [
    {
     "data": {
      "text/html": [
       "<div>\n",
       "<style scoped>\n",
       "    .dataframe tbody tr th:only-of-type {\n",
       "        vertical-align: middle;\n",
       "    }\n",
       "\n",
       "    .dataframe tbody tr th {\n",
       "        vertical-align: top;\n",
       "    }\n",
       "\n",
       "    .dataframe thead th {\n",
       "        text-align: right;\n",
       "    }\n",
       "</style>\n",
       "<table border=\"1\" class=\"dataframe\">\n",
       "  <thead>\n",
       "    <tr style=\"text-align: right;\">\n",
       "      <th></th>\n",
       "      <th>cost</th>\n",
       "      <th>weight</th>\n",
       "    </tr>\n",
       "  </thead>\n",
       "  <tbody>\n",
       "    <tr>\n",
       "      <th>0</th>\n",
       "      <td>3500</td>\n",
       "      <td>98</td>\n",
       "    </tr>\n",
       "    <tr>\n",
       "      <th>1</th>\n",
       "      <td>700</td>\n",
       "      <td>34</td>\n",
       "    </tr>\n",
       "    <tr>\n",
       "      <th>2</th>\n",
       "      <td>2100</td>\n",
       "      <td>120</td>\n",
       "    </tr>\n",
       "  </tbody>\n",
       "</table>\n",
       "</div>"
      ],
      "text/plain": [
       "   cost  weight\n",
       "0  3500      98\n",
       "1   700      34\n",
       "2  2100     120"
      ]
     },
     "execution_count": 28,
     "metadata": {},
     "output_type": "execute_result"
    }
   ],
   "source": [
    "price.head(3)"
   ]
  },
  {
   "cell_type": "code",
   "execution_count": null,
   "metadata": {},
   "outputs": [],
   "source": []
  }
 ],
 "metadata": {
  "kernelspec": {
   "display_name": "Python 3",
   "language": "python",
   "name": "python3"
  },
  "language_info": {
   "codemirror_mode": {
    "name": "ipython",
    "version": 3
   },
   "file_extension": ".py",
   "mimetype": "text/x-python",
   "name": "python",
   "nbconvert_exporter": "python",
   "pygments_lexer": "ipython3",
   "version": "3.7.3"
  }
 },
 "nbformat": 4,
 "nbformat_minor": 2
}
