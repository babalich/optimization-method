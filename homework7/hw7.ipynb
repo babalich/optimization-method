{
 "cells": [
  {
   "cell_type": "markdown",
   "metadata": {
    "colab_type": "text",
    "id": "K7XFN947YzaD"
   },
   "source": [
    "## Введением\n",
    "\n",
    "__Генетические алгоритмы__ очень похожи на процесс естественного отбора, который был Чарльзом Дарвином. В общем смысле, мы можем понять как работает естественный процесс и как он связан с генетическим алгоритмом, используя следующее описание:\n",
    "\n",
    "* стартуем с начальной популяции, которая будет иметь определенный вид, например такой, как на рисунке\n",
    "\n",
    "<img src=\"https://miro.medium.com/max/1400/1*uqQLuhCeqbfyOyHtPt3Ixg.png\" width=\"400\" height=\"100\">\n",
    "\n",
    "* начальная популяция будет протестирована для понимания того, насколько хороших результатов можно добиться с такой популяцией, оценивать качество работы мы можем с помощью любой классической метрики машинного обучения - accuracy, precision, recall, F1-score, ROC-AUC\n",
    "\n",
    "* основываясь на значениях метрики, мы выберем наиболее успешных родителей (этап \"выживания наиболее приспособленных\")\n",
    "\n",
    "<img src=\"https://miro.medium.com/max/1400/1*9mrDW_6WWBuggN6pGLinwg.png\" width=\"400\" height=\"100\">\n",
    "\n",
    "* проведем спаривание родителей из выжевшей популяции, для производства потомства. Спаривание проводим с помощью двух шагов: кроссовер / рекомбинация и мутация. В случае кроссовера, гены (параметры) от родителей спаривания будут рекомбинированы, чтобы произвести потомство, с каждым ребенком, который наследует некоторые гены (параметры) от каждого родителя.\n",
    "\n",
    "<img src=\"https://miro.medium.com/max/1400/1*h-rR-u4oyCZy39m4v-Pvhg.png\" width=\"400\" height=\"100\">\n",
    "\n",
    "* в случае, мутации, некоторые значения генов (параметров) будут изменены, чтобы сохранить генетическое разнообразие. Это позволяет генетическому алгоритму, обычно, находить наилучшее решение.\n",
    "\n",
    "<img src=\"https://miro.medium.com/max/1400/1*Zlcm1KQCD3Enzx5F1WhufQ.png\" width=\"400\" height=\"100\">\n",
    "\n",
    "* в конечном счете, мы получим такие значения, которые будут содержать часть от выживших родителей (хороший ген), так и детей (новый ген). Мы сохраняем выживших родителей, чтобы сохранить наилучшие параметры физической формы на случай, если ценность физической подготовки потомства окажется хуже, чем у родителей."
   ]
  },
  {
   "cell_type": "markdown",
   "metadata": {
    "colab_type": "text",
    "id": "4G7_s-AQYzaE"
   },
   "source": [
    "## Genetic Algorithm for hyperparams optimization\n",
    "\n",
    "Будем использовать генетический алгоритм для оптимизации гиперпараметров модели XGBoost. XGBoost - одна из наиболее популярных реализацией алгоритма градиентного бустинга, хорошо оптимизированная библиотека, которая обеспечивает высокую эффективность, гибкость и высокую переносимость. \n",
    "\n",
    "## Инициализация\n",
    "\n",
    "Первый шаг генетического алгоритма - инициализация. Шаг, на котором происходит инициализация параметров случайным образом для создания популяции. В результате, мы получим первое поколение популяции, которое изображено на рисунке 1. Будем настраивать следующие параметры XGBoost:\n",
    "* max_depth - максимальная глубина отдельного дерева;\n",
    "* min_child_weight - минимальная сумма весов объектов, необходимая для разбиения дерева;\n",
    "* subsample - доля объектов, которая будет использована для обучения отдельного дерева;\n",
    "* colsample_bytree - доля признаков, которая используется для построения каждого отдельного дерева;\n",
    "* gamma - минимальное значение функции потерь, при котором возможно разбиение в вершине дерева.\n",
    "\n",
    "Подробное описание всех гиперпараметров алгоритма:\n",
    "https://xgboost.readthedocs.io/en/latest/parameter.html"
   ]
  },
  {
   "cell_type": "code",
   "execution_count": 21,
   "metadata": {
    "colab": {},
    "colab_type": "code",
    "id": "thz4sGKHYzaE"
   },
   "outputs": [],
   "source": [
    "from typing import Dict\n",
    "from copy import deepcopy\n",
    "from tqdm import tqdm\n",
    "\n",
    "import random\n",
    "import numpy as np\n",
    "import pandas as pd\n",
    "import xgboost as xgb\n",
    "\n",
    "from sklearn.metrics import roc_auc_score\n",
    "from sklearn.model_selection import train_test_split\n",
    "from IPython.display import clear_output\n",
    "\n",
    "import seaborn as sns\n",
    "import matplotlib.pyplot as plt"
   ]
  },
  {
   "cell_type": "code",
   "execution_count": 22,
   "metadata": {
    "colab": {
     "base_uri": "https://localhost:8080/",
     "height": 34
    },
    "colab_type": "code",
    "id": "pezdFdZvTVlo",
    "outputId": "28e91e6e-e591-44a1-bc22-80f8ecebad81"
   },
   "outputs": [
    {
     "name": "stdout",
     "output_type": "stream",
     "text": [
      "Drive already mounted at /content/gdrive; to attempt to forcibly remount, call drive.mount(\"/content/gdrive\", force_remount=True).\n"
     ]
    }
   ],
   "source": [
    "from google.colab import drive \n",
    "drive.mount('/content/gdrive')"
   ]
  },
  {
   "cell_type": "code",
   "execution_count": 22,
   "metadata": {
    "colab": {},
    "colab_type": "code",
    "id": "BFB8aUehTgYF"
   },
   "outputs": [],
   "source": []
  },
  {
   "cell_type": "code",
   "execution_count": 23,
   "metadata": {
    "colab": {
     "base_uri": "https://localhost:8080/",
     "height": 194
    },
    "colab_type": "code",
    "id": "Uk7qBxtEYzaH",
    "outputId": "2de71720-e6f2-415e-a403-9cbba17f15b0"
   },
   "outputs": [
    {
     "data": {
      "text/html": [
       "<div>\n",
       "<style scoped>\n",
       "    .dataframe tbody tr th:only-of-type {\n",
       "        vertical-align: middle;\n",
       "    }\n",
       "\n",
       "    .dataframe tbody tr th {\n",
       "        vertical-align: top;\n",
       "    }\n",
       "\n",
       "    .dataframe thead th {\n",
       "        text-align: right;\n",
       "    }\n",
       "</style>\n",
       "<table border=\"1\" class=\"dataframe\">\n",
       "  <thead>\n",
       "    <tr style=\"text-align: right;\">\n",
       "      <th></th>\n",
       "      <th>SK_ID_CURR</th>\n",
       "      <th>TARGET</th>\n",
       "      <th>NAME_CONTRACT_TYPE</th>\n",
       "      <th>CODE_GENDER</th>\n",
       "      <th>FLAG_OWN_CAR</th>\n",
       "      <th>FLAG_OWN_REALTY</th>\n",
       "      <th>CNT_CHILDREN</th>\n",
       "      <th>AMT_INCOME_TOTAL</th>\n",
       "      <th>AMT_CREDIT</th>\n",
       "      <th>AMT_ANNUITY</th>\n",
       "      <th>AMT_GOODS_PRICE</th>\n",
       "      <th>NAME_TYPE_SUITE</th>\n",
       "      <th>NAME_INCOME_TYPE</th>\n",
       "      <th>NAME_EDUCATION_TYPE</th>\n",
       "      <th>NAME_FAMILY_STATUS</th>\n",
       "      <th>NAME_HOUSING_TYPE</th>\n",
       "      <th>REGION_POPULATION_RELATIVE</th>\n",
       "      <th>DAYS_BIRTH</th>\n",
       "      <th>DAYS_EMPLOYED</th>\n",
       "      <th>DAYS_REGISTRATION</th>\n",
       "      <th>DAYS_ID_PUBLISH</th>\n",
       "      <th>OWN_CAR_AGE</th>\n",
       "      <th>FLAG_MOBIL</th>\n",
       "      <th>FLAG_EMP_PHONE</th>\n",
       "      <th>FLAG_WORK_PHONE</th>\n",
       "      <th>FLAG_CONT_MOBILE</th>\n",
       "      <th>FLAG_PHONE</th>\n",
       "      <th>FLAG_EMAIL</th>\n",
       "      <th>OCCUPATION_TYPE</th>\n",
       "      <th>CNT_FAM_MEMBERS</th>\n",
       "      <th>REGION_RATING_CLIENT</th>\n",
       "      <th>REGION_RATING_CLIENT_W_CITY</th>\n",
       "      <th>WEEKDAY_APPR_PROCESS_START</th>\n",
       "      <th>HOUR_APPR_PROCESS_START</th>\n",
       "      <th>REG_REGION_NOT_LIVE_REGION</th>\n",
       "      <th>REG_REGION_NOT_WORK_REGION</th>\n",
       "      <th>LIVE_REGION_NOT_WORK_REGION</th>\n",
       "      <th>REG_CITY_NOT_LIVE_CITY</th>\n",
       "      <th>REG_CITY_NOT_WORK_CITY</th>\n",
       "      <th>LIVE_CITY_NOT_WORK_CITY</th>\n",
       "      <th>...</th>\n",
       "      <th>LIVINGAPARTMENTS_MEDI</th>\n",
       "      <th>LIVINGAREA_MEDI</th>\n",
       "      <th>NONLIVINGAPARTMENTS_MEDI</th>\n",
       "      <th>NONLIVINGAREA_MEDI</th>\n",
       "      <th>HOUSETYPE_MODE</th>\n",
       "      <th>TOTALAREA_MODE</th>\n",
       "      <th>WALLSMATERIAL_MODE</th>\n",
       "      <th>EMERGENCYSTATE_MODE</th>\n",
       "      <th>OBS_30_CNT_SOCIAL_CIRCLE</th>\n",
       "      <th>DEF_30_CNT_SOCIAL_CIRCLE</th>\n",
       "      <th>OBS_60_CNT_SOCIAL_CIRCLE</th>\n",
       "      <th>DEF_60_CNT_SOCIAL_CIRCLE</th>\n",
       "      <th>DAYS_LAST_PHONE_CHANGE</th>\n",
       "      <th>FLAG_DOCUMENT_2</th>\n",
       "      <th>FLAG_DOCUMENT_3</th>\n",
       "      <th>FLAG_DOCUMENT_4</th>\n",
       "      <th>FLAG_DOCUMENT_5</th>\n",
       "      <th>FLAG_DOCUMENT_6</th>\n",
       "      <th>FLAG_DOCUMENT_7</th>\n",
       "      <th>FLAG_DOCUMENT_8</th>\n",
       "      <th>FLAG_DOCUMENT_9</th>\n",
       "      <th>FLAG_DOCUMENT_10</th>\n",
       "      <th>FLAG_DOCUMENT_11</th>\n",
       "      <th>FLAG_DOCUMENT_12</th>\n",
       "      <th>FLAG_DOCUMENT_13</th>\n",
       "      <th>FLAG_DOCUMENT_14</th>\n",
       "      <th>FLAG_DOCUMENT_15</th>\n",
       "      <th>FLAG_DOCUMENT_16</th>\n",
       "      <th>FLAG_DOCUMENT_17</th>\n",
       "      <th>FLAG_DOCUMENT_18</th>\n",
       "      <th>FLAG_DOCUMENT_19</th>\n",
       "      <th>FLAG_DOCUMENT_20</th>\n",
       "      <th>FLAG_DOCUMENT_21</th>\n",
       "      <th>AMT_REQ_CREDIT_BUREAU_HOUR</th>\n",
       "      <th>AMT_REQ_CREDIT_BUREAU_DAY</th>\n",
       "      <th>AMT_REQ_CREDIT_BUREAU_WEEK</th>\n",
       "      <th>AMT_REQ_CREDIT_BUREAU_MON</th>\n",
       "      <th>AMT_REQ_CREDIT_BUREAU_QRT</th>\n",
       "      <th>AMT_REQ_CREDIT_BUREAU_YEAR</th>\n",
       "      <th>COMMUNICATION_TYPE</th>\n",
       "    </tr>\n",
       "  </thead>\n",
       "  <tbody>\n",
       "    <tr>\n",
       "      <th>0</th>\n",
       "      <td>274498</td>\n",
       "      <td>0</td>\n",
       "      <td>Revolving loans</td>\n",
       "      <td>F</td>\n",
       "      <td>N</td>\n",
       "      <td>Y</td>\n",
       "      <td>0</td>\n",
       "      <td>135000.0</td>\n",
       "      <td>270000.0</td>\n",
       "      <td>13500.0</td>\n",
       "      <td>270000.0</td>\n",
       "      <td>Unaccompanied</td>\n",
       "      <td>Pensioner</td>\n",
       "      <td>Secondary / secondary special</td>\n",
       "      <td>Single / not married</td>\n",
       "      <td>House / apartment</td>\n",
       "      <td>0.019101</td>\n",
       "      <td>-21457</td>\n",
       "      <td>365243</td>\n",
       "      <td>-280.0</td>\n",
       "      <td>-874</td>\n",
       "      <td>NaN</td>\n",
       "      <td>1</td>\n",
       "      <td>0</td>\n",
       "      <td>0</td>\n",
       "      <td>1</td>\n",
       "      <td>0</td>\n",
       "      <td>0</td>\n",
       "      <td>NaN</td>\n",
       "      <td>1.0</td>\n",
       "      <td>2</td>\n",
       "      <td>2</td>\n",
       "      <td>TUESDAY</td>\n",
       "      <td>11</td>\n",
       "      <td>0</td>\n",
       "      <td>0</td>\n",
       "      <td>0</td>\n",
       "      <td>0</td>\n",
       "      <td>0</td>\n",
       "      <td>0</td>\n",
       "      <td>...</td>\n",
       "      <td>NaN</td>\n",
       "      <td>NaN</td>\n",
       "      <td>NaN</td>\n",
       "      <td>NaN</td>\n",
       "      <td>NaN</td>\n",
       "      <td>NaN</td>\n",
       "      <td>NaN</td>\n",
       "      <td>NaN</td>\n",
       "      <td>0.0</td>\n",
       "      <td>0.0</td>\n",
       "      <td>0.0</td>\n",
       "      <td>0.0</td>\n",
       "      <td>-733.0</td>\n",
       "      <td>0</td>\n",
       "      <td>0</td>\n",
       "      <td>0</td>\n",
       "      <td>0</td>\n",
       "      <td>0</td>\n",
       "      <td>0</td>\n",
       "      <td>0</td>\n",
       "      <td>0</td>\n",
       "      <td>0</td>\n",
       "      <td>0</td>\n",
       "      <td>0</td>\n",
       "      <td>0</td>\n",
       "      <td>0</td>\n",
       "      <td>0</td>\n",
       "      <td>0</td>\n",
       "      <td>0</td>\n",
       "      <td>0</td>\n",
       "      <td>0</td>\n",
       "      <td>0</td>\n",
       "      <td>0</td>\n",
       "      <td>0.0</td>\n",
       "      <td>0.0</td>\n",
       "      <td>0.0</td>\n",
       "      <td>0.0</td>\n",
       "      <td>0.0</td>\n",
       "      <td>7.0</td>\n",
       "      <td>PUSH</td>\n",
       "    </tr>\n",
       "    <tr>\n",
       "      <th>1</th>\n",
       "      <td>332772</td>\n",
       "      <td>1</td>\n",
       "      <td>Cash loans</td>\n",
       "      <td>F</td>\n",
       "      <td>N</td>\n",
       "      <td>Y</td>\n",
       "      <td>0</td>\n",
       "      <td>162000.0</td>\n",
       "      <td>1546020.0</td>\n",
       "      <td>45202.5</td>\n",
       "      <td>1350000.0</td>\n",
       "      <td>Unaccompanied</td>\n",
       "      <td>Working</td>\n",
       "      <td>Secondary / secondary special</td>\n",
       "      <td>Separated</td>\n",
       "      <td>House / apartment</td>\n",
       "      <td>0.019101</td>\n",
       "      <td>-17954</td>\n",
       "      <td>-2651</td>\n",
       "      <td>-7722.0</td>\n",
       "      <td>-1483</td>\n",
       "      <td>NaN</td>\n",
       "      <td>1</td>\n",
       "      <td>1</td>\n",
       "      <td>0</td>\n",
       "      <td>1</td>\n",
       "      <td>1</td>\n",
       "      <td>0</td>\n",
       "      <td>Laborers</td>\n",
       "      <td>1.0</td>\n",
       "      <td>2</td>\n",
       "      <td>2</td>\n",
       "      <td>WEDNESDAY</td>\n",
       "      <td>12</td>\n",
       "      <td>0</td>\n",
       "      <td>0</td>\n",
       "      <td>0</td>\n",
       "      <td>0</td>\n",
       "      <td>0</td>\n",
       "      <td>0</td>\n",
       "      <td>...</td>\n",
       "      <td>NaN</td>\n",
       "      <td>NaN</td>\n",
       "      <td>NaN</td>\n",
       "      <td>NaN</td>\n",
       "      <td>NaN</td>\n",
       "      <td>NaN</td>\n",
       "      <td>NaN</td>\n",
       "      <td>NaN</td>\n",
       "      <td>0.0</td>\n",
       "      <td>0.0</td>\n",
       "      <td>0.0</td>\n",
       "      <td>0.0</td>\n",
       "      <td>-2403.0</td>\n",
       "      <td>0</td>\n",
       "      <td>1</td>\n",
       "      <td>0</td>\n",
       "      <td>0</td>\n",
       "      <td>0</td>\n",
       "      <td>0</td>\n",
       "      <td>0</td>\n",
       "      <td>0</td>\n",
       "      <td>0</td>\n",
       "      <td>0</td>\n",
       "      <td>0</td>\n",
       "      <td>0</td>\n",
       "      <td>0</td>\n",
       "      <td>0</td>\n",
       "      <td>0</td>\n",
       "      <td>0</td>\n",
       "      <td>0</td>\n",
       "      <td>0</td>\n",
       "      <td>0</td>\n",
       "      <td>0</td>\n",
       "      <td>0.0</td>\n",
       "      <td>0.0</td>\n",
       "      <td>0.0</td>\n",
       "      <td>0.0</td>\n",
       "      <td>0.0</td>\n",
       "      <td>5.0</td>\n",
       "      <td>PUSH</td>\n",
       "    </tr>\n",
       "  </tbody>\n",
       "</table>\n",
       "<p>2 rows × 122 columns</p>\n",
       "</div>"
      ],
      "text/plain": [
       "   SK_ID_CURR  TARGET  ... AMT_REQ_CREDIT_BUREAU_YEAR COMMUNICATION_TYPE\n",
       "0      274498       0  ...                        7.0               PUSH\n",
       "1      332772       1  ...                        5.0               PUSH\n",
       "\n",
       "[2 rows x 122 columns]"
      ]
     },
     "execution_count": 23,
     "metadata": {
      "tags": []
     },
     "output_type": "execute_result"
    }
   ],
   "source": [
    "data = pd.read_csv(\"/content/gdrive/My Drive/train.csv\")\n",
    "data = data.sample(50000).reset_index(drop=True)\n",
    "\n",
    "data.head(n=2)"
   ]
  },
  {
   "cell_type": "code",
   "execution_count": 24,
   "metadata": {
    "colab": {},
    "colab_type": "code",
    "id": "4jzg5Ay7YzaK"
   },
   "outputs": [],
   "source": [
    "x_train, x_valid = train_test_split(\n",
    "    data, train_size=15000, random_state=1\n",
    ")\n",
    "x_train = x_train.reset_index(drop=True)\n",
    "x_valud = x_valid.reset_index(drop=True)\n",
    "\n",
    "y_train, y_valid = x_train[\"TARGET\"], x_valid[\"TARGET\"]"
   ]
  },
  {
   "cell_type": "code",
   "execution_count": 25,
   "metadata": {
    "colab": {},
    "colab_type": "code",
    "id": "srdfQ1ljYzaN"
   },
   "outputs": [],
   "source": [
    "def init_population(number_of_parents: int) -> Dict[str, np.array]:\n",
    "    \"\"\"\n",
    "    Инициализация начальной популяции генетического алгоритма.\n",
    "\n",
    "    Parameters\n",
    "    ----------\n",
    "    number_of_parents: int\n",
    "        Количество родителей в популяции.\n",
    "\n",
    "    Returns\n",
    "    -------\n",
    "    population: dict, Dict[str, np.array]\n",
    "        Словарь с начальной популяцией.\n",
    "\n",
    "    \"\"\"\n",
    "    population = {\n",
    "        \"max_depth\": np.empty([number_of_parents, 1], dtype=np.uint8),\n",
    "        \"min_child_weight\": np.empty([number_of_parents, 1], dtype=np.uint8),\n",
    "        \"subsample\": np.empty([number_of_parents, 1]),\n",
    "        \"colsample_bytree\": np.empty([number_of_parents, 1]),\n",
    "        \"gamma\": np.empty([number_of_parents, 1])\n",
    "    }\n",
    "\n",
    "    for i in range(number_of_parents):\n",
    "        population[\"max_depth\"][i] = round(\n",
    "            random.randrange(1, 10, step=1)\n",
    "        )\n",
    "        population[\"min_child_weight\"][i] = round(\n",
    "            random.uniform(0.01, 10), 2\n",
    "        )\n",
    "        population[\"subsample\"][i] = round(\n",
    "            random.uniform(0.01, 1), 2\n",
    "        )\n",
    "        population[\"colsample_bytree\"][i] = round(\n",
    "            random.uniform(0.01, 1), 2\n",
    "        )\n",
    "        population[\"gamma\"][i] = round(\n",
    "            random.uniform(0.01, 10), 2\n",
    "        )\n",
    "    return population"
   ]
  },
  {
   "cell_type": "markdown",
   "metadata": {
    "colab_type": "text",
    "id": "zVmEwThkYzaP"
   },
   "source": [
    "Ограничения на значения параметры наложены из рекомендаций документации XGBoost, либо на основании разумных предположений о возможном значении параметров."
   ]
  },
  {
   "cell_type": "markdown",
   "metadata": {
    "colab_type": "text",
    "id": "OWtF1jT6YzaQ"
   },
   "source": [
    "## Селеция или отбор родителей\n",
    "\n",
    "Второй шаг, обучим модель с использованием начальной популяции и вычислим значением метрики качества, будем использовать метрику ROC-AUC."
   ]
  },
  {
   "cell_type": "code",
   "execution_count": 26,
   "metadata": {
    "colab": {},
    "colab_type": "code",
    "id": "EhclJZyaYzaQ"
   },
   "outputs": [],
   "source": [
    "def train_population(population,\n",
    "                     xgb_train: xgb.DMatrix,\n",
    "                     xgb_valid: xgb.DMatrix,\n",
    "                     y_valid: pd.Series\n",
    "                     ):\n",
    "    \"\"\"\n",
    "    Обучение модели на каждом значении population.\n",
    "    После обучения модели, производится оценка качества\n",
    "    модели с помощью метрики ROC-AUC на данных xgb_valid.\n",
    "\n",
    "    Parameters\n",
    "    ----------\n",
    "    population: numpy.array\n",
    "        Матрица с текущим значением популяции.\n",
    "\n",
    "    xgb_train: xgb.DMatrix\n",
    "        Выборка для обучения модели, в формате xgboost.DMatrix.\n",
    "\n",
    "    xgb_valid: xgb.DMatrix\n",
    "        Выборка для тестирования модели, в формате xgboost.DMatrix.\n",
    "\n",
    "    y_valid: pd.Series\n",
    "        Значение целевой переменной для тестирования модели.\n",
    "\n",
    "    Returns\n",
    "    -------\n",
    "    scores: List[float]\n",
    "        Список со значеним метрик качества.\n",
    "\n",
    "    \"\"\"\n",
    "    scores = []\n",
    "    for i in range(population.shape[0]):\n",
    "        xgb_params = {\n",
    "            \"booster\": \"gbtree\",\n",
    "            \"objective\": \"binary:logistic\",\n",
    "            \"learning_rate\": 0.1,\n",
    "            \"max_depth\": int(population[i][0]),\n",
    "            \"min_child_weight\": population[i][1],\n",
    "            \"subsample\": population[i][2],\n",
    "            \"colsample_bytree\": population[i][3],\n",
    "            \"gamma\": population[i][4],\n",
    "            \"eval_metric\": \"auc\",\n",
    "            \"nthread\": 6,\n",
    "            \"seed\": 27\n",
    "        }\n",
    "        model = xgb.train(\n",
    "            params=xgb_params,\n",
    "            dtrain=xgb_train,\n",
    "            evals=[(xgb_train, \"train\"), (xgb_valid, \"valid\")],\n",
    "            early_stopping_rounds=50,\n",
    "            num_boost_round=1000,\n",
    "            verbose_eval=25,\n",
    "        )\n",
    "        y_pred = model.predict(xgb_valid)\n",
    "        score = roc_auc_score(y_valid, y_pred)\n",
    "        scores.append(score)\n",
    "        print(\"=\"*84)\n",
    "\n",
    "    return scores"
   ]
  },
  {
   "cell_type": "code",
   "execution_count": 27,
   "metadata": {
    "colab": {},
    "colab_type": "code",
    "id": "T8xSjrkCYzaS"
   },
   "outputs": [],
   "source": [
    "num_features = x_train.select_dtypes(exclude=[\"object\"]).columns\n",
    "x_train, x_valid = x_train[num_features], x_valid[num_features]\n",
    "\n",
    "to_drop = [\"SK_ID_CURR\", \"TARGET\"]\n",
    "x_train = x_train.drop(to_drop, axis=1)\n",
    "x_valid = x_valid.drop(to_drop, axis=1)"
   ]
  },
  {
   "cell_type": "code",
   "execution_count": 28,
   "metadata": {
    "colab": {},
    "colab_type": "code",
    "id": "BEDXoD4NYzaV"
   },
   "outputs": [],
   "source": [
    "xgb_train = xgb.DMatrix(\n",
    "    data=x_train, label=y_train\n",
    ")\n",
    "xgb_valid = xgb.DMatrix(\n",
    "    data=x_valid, label=y_valid\n",
    ")"
   ]
  },
  {
   "cell_type": "markdown",
   "metadata": {
    "colab_type": "text",
    "id": "4fDB_c6WYzaX"
   },
   "source": [
    "Определим, сколько родителей мы хотели бы выбрать, и создадим массив с выбранными родителями, основываясь на значениях метрики качества."
   ]
  },
  {
   "cell_type": "code",
   "execution_count": 29,
   "metadata": {
    "colab": {},
    "colab_type": "code",
    "id": "4p8ABKeLYzaX"
   },
   "outputs": [],
   "source": [
    "def select_new_parents(population: np.array, scores: list, num_parents: int):\n",
    "    \"\"\"\n",
    "    Выбор оптимальный параметров популяции на основе\n",
    "    значений метрики качества ROC-AUC.\n",
    "\n",
    "    Parameters\n",
    "    ----------\n",
    "    population: np.array\n",
    "        Матрица с текущим значением популяции.\n",
    "\n",
    "    scores: List[float]\n",
    "        Список со значениями метрики качества.\n",
    "\n",
    "    num_parents: int\n",
    "        Количество родителей, которые требуется отобрать.\n",
    "\n",
    "    Returns\n",
    "    -------\n",
    "    selected_parents: np.array\n",
    "        Значение популяции, отобранное на основе метрики качества.\n",
    "\n",
    "    \"\"\"\n",
    "    scores = deepcopy(scores)\n",
    "    selected_parents = np.empty((\n",
    "        num_parents, population.shape[1]\n",
    "    ))\n",
    "\n",
    "    for parent_id in range(num_parents):\n",
    "        best_result_id = np.where(scores == np.max(scores))\n",
    "        best_result_id = best_result_id[0][0]\n",
    "\n",
    "        selected_parents[parent_id, :] = population[best_result_id, :]\n",
    "        scores[best_result_id] = -1\n",
    "\n",
    "    return selected_parents"
   ]
  },
  {
   "cell_type": "markdown",
   "metadata": {
    "colab_type": "text",
    "id": "lSZ-yOOvYzaZ"
   },
   "source": [
    "## Crossover\n",
    "\n",
    "Существуют различные методы определения пересечения в случае генетических алгоритмов, такие как одноточечный, двухточечный и k-точечный кроссовер, равномерный кроссовер и кроссовер для упорядоченных списков. Мы будем использовать единый кроссовер, где каждый параметр для ребенка (нового объекта популяции) будет независимо выбираться из родителей на основе определенного распределения. В нашем случае, мы будем использовать дискретное равномерное распределение из numpy.random."
   ]
  },
  {
   "cell_type": "markdown",
   "metadata": {
    "colab_type": "text",
    "id": "EwOZPp9UYE7T"
   },
   "source": [
    "<div class=\"alert alert-block alert-success\">\n",
    "<p>Идея была в том, что отобрать двух \"лучших\" родителей. Далее лучшие родители между собой порождают двух потомков. <br>\n",
    "После этого каждый из двух топовых родителей создает по одному потомку с половиной оставшихся особей. \n",
    "Каждый раз гены смешиваются пошагово случайно для каждого гена. <br>\n",
    "Варианты алгоритмов с перестановкой генов не применимы для нашей задачи, поскольку каждый параметр модели приемлим только в определенном диапазоне<br>\n",
    "Судя по метрикам, моя гипотеза провалилась, значительного улучшения качества модели нет, хотя в целом каждое следующее поколение имеет большую стабильность - нет явно провальных моделей после третьего поколения.\n",
    "</p></div>"
   ]
  },
  {
   "cell_type": "code",
   "execution_count": 30,
   "metadata": {
    "colab": {},
    "colab_type": "code",
    "id": "FTEWIqeJYzaa"
   },
   "outputs": [],
   "source": [
    "# def crossover_uniform(parents, children_size):\n",
    "#     \"\"\"\n",
    "    \n",
    "#     \"\"\"\n",
    "#     idx_1 = np.arange(\n",
    "#         0, np.uint8(children_size[1]), 1, dtype=np.uint8\n",
    "#     )\n",
    "#     idx_2 = np.random.randint(\n",
    "#         0, np.uint8(children_size[1]), np.uint(children_size[1]/2)\n",
    "#     )\n",
    "#     idx_3 = np.array(\n",
    "#         list(set(idx_1) - set(idx_2))\n",
    "#     )\n",
    "#     children = np.empty(children_size)\n",
    "\n",
    "#     for i in range(children_size[0]):\n",
    "#         parent1_idx = i % parents.shape[0]\n",
    "#         parent2_idx = (i+1) % parents.shape[0]\n",
    "\n",
    "#         children[i, idx_2] = parents[parent1_idx, idx_2]\n",
    "#         children[i, idx_3] = parents[parent2_idx, idx_3]\n",
    "\n",
    "#     return children\n",
    "\n",
    "def crossover_uniform(parents, children_size):\n",
    "    num_top = 2\n",
    "    children = parents.copy()\n",
    "    \n",
    "    # у двух лучший родителей появляется два потомка, обмениваясь случайными генами между собой\n",
    "    children[0] = gens_swap(parents[0], parents[1], children_size[1])\n",
    "    children[1] = gens_swap(parents[1], parents[0], children_size[1])\n",
    "    \n",
    "    # каждый из двух лучших родителей смешивает геном с половиной оставшихся особами порождая одного потомка\n",
    "    for i in range(0, num_top):\n",
    "        parterns_num = (children_size[0] - num_top) // num_top # кол-во смешений для лучшего родителя\n",
    "        idx_shuffle = get_genes(children_size[1])\n",
    "        for y in range(i*parterns_num+num_top, i*parterns_num + num_top + parterns_num):\n",
    "            children[y] = gens_swap(parents[i], parents[y], children_size[1])\n",
    "\n",
    "    return children\n",
    "\n",
    "\n",
    "def get_genes(size): # выбор генов, которые будут смешиваться\n",
    "    idx_shuffle = np.random.randint(0, 2, size)\n",
    "    return idx_shuffle\n",
    "\n",
    "def gens_swap(parent0, parent1, size): # замена генов при создание потомка\n",
    "    child = [0]*size\n",
    "    idx_swap = get_genes(size)\n",
    "    for i in range(0, size):\n",
    "        if idx_swap[i] == 1:\n",
    "            child[i] = parent0[i]\n",
    "        else:\n",
    "            child[i] = parent1[i]\n",
    "    return child"
   ]
  },
  {
   "cell_type": "code",
   "execution_count": 30,
   "metadata": {
    "colab": {},
    "colab_type": "code",
    "id": "KxM2t61JYjTG"
   },
   "outputs": [],
   "source": []
  },
  {
   "cell_type": "markdown",
   "metadata": {
    "colab_type": "text",
    "id": "nEx-GbQ3Yzac"
   },
   "source": [
    "## Мутация\n",
    "\n",
    "Последним шагом будет разнообразное построение потомков путем случайного выбора одного из параметров и изменения его на случайную величину. Мы также введем некоторые ограничения, чтобы ограничить измененные значения в определенном диапазоне. Пропуск этих ограничений может привести к возникновению ошибки."
   ]
  },
  {
   "cell_type": "code",
   "execution_count": 31,
   "metadata": {
    "colab": {},
    "colab_type": "code",
    "id": "sdgUouoEYzac"
   },
   "outputs": [],
   "source": [
    "def mutation(crossover, number_of_parameters):\n",
    "    \"\"\"\n",
    "    Мутация объектов популяции, получение новых значений\n",
    "    гиперпараметров для проверки гипотезы о повышении качества\n",
    "    работы модели.\n",
    "\n",
    "    Parameters\n",
    "    ----------\n",
    "    crossover: np.array\n",
    "        Исходные объекты популяции.\n",
    "\n",
    "    number_of_parameters: int\n",
    "        Количество параметров.\n",
    "\n",
    "    Returns\n",
    "    -------\n",
    "    crossover: np.array\n",
    "        Мутированные объекты популяции.\n",
    "\n",
    "    \"\"\"\n",
    "    min_max_values = np.zeros((number_of_parameters, 2))\n",
    "\n",
    "    min_max_values[0, :] = [1, 15] # ограничение для max_depth\n",
    "    min_max_values[1, :] = [0, 10] # ограничение для min_child_weight\n",
    "    min_max_values[2, :] = [0.01, 1] # ограничение для subsample\n",
    "    min_max_values[3, :] = [0.01, 1] # ограничение для colsample_bytree\n",
    "    min_max_values[4, :] = [0.01, 10] # ограничение для gamma\n",
    "    parameter_selected = np.random.randint(0, 5, 1)\n",
    "\n",
    "    if parameter_selected == 0:\n",
    "        mutation_value = np.random.randint(-5, 5, 1)\n",
    "    elif parameter_selected == 1:\n",
    "        mutation_value = round(np.random.uniform(5, 5), 2)\n",
    "    elif parameter_selected == 2:\n",
    "        mutation_value = round(np.random.uniform(-0.5, 0.5), 2)\n",
    "    elif parameter_selected == 3:\n",
    "        mutation_value = round(np.random.uniform(-0.5, 0.5), 2)\n",
    "    elif parameter_selected == 4:\n",
    "        mutation_value = round(np.random.uniform(-2, 2), 2)\n",
    "\n",
    "    for idx in range(crossover.shape[0]):\n",
    "        crossover[idx, parameter_selected] = crossover[idx, parameter_selected] + mutation_value\n",
    "        if crossover[idx, parameter_selected] > min_max_values[parameter_selected, 1]:\n",
    "            crossover[idx, parameter_selected] = min_max_values[parameter_selected, 1]\n",
    "        else:\n",
    "            crossover[idx, parameter_selected] = min_max_values[parameter_selected, 0]\n",
    "\n",
    "    return crossover"
   ]
  },
  {
   "cell_type": "markdown",
   "metadata": {
    "colab_type": "text",
    "id": "DOVGGEXQYzae"
   },
   "source": [
    "## Вычислительный эксперимент"
   ]
  },
  {
   "cell_type": "code",
   "execution_count": 35,
   "metadata": {
    "colab": {},
    "colab_type": "code",
    "id": "wMk2Z5rxYzaf"
   },
   "outputs": [],
   "source": [
    "number_of_parents = 8\n",
    "number_of_parents_mating = 4\n",
    "number_of_parameters = 5\n",
    "number_of_generation = 6\n",
    "\n",
    "population_size = (number_of_parents, number_of_parameters)\n",
    "scores_history = np.empty([number_of_generation+1, number_of_parents])\n",
    "\n",
    "params_history = np.empty([(number_of_generation+1) * number_of_parents, number_of_parameters])"
   ]
  },
  {
   "cell_type": "code",
   "execution_count": 36,
   "metadata": {
    "colab": {},
    "colab_type": "code",
    "id": "2iS30UooYzah"
   },
   "outputs": [],
   "source": [
    "population = init_population(number_of_parents)\n",
    "\n",
    "population = np.concatenate((\n",
    "    population[\"max_depth\"],\n",
    "    population[\"min_child_weight\"],\n",
    "    population[\"subsample\"],\n",
    "    population[\"colsample_bytree\"],\n",
    "    population[\"gamma\"]), axis=1)\n",
    "\n",
    "params_history[0:number_of_parents, :] = population"
   ]
  },
  {
   "cell_type": "code",
   "execution_count": 37,
   "metadata": {
    "colab": {
     "base_uri": "https://localhost:8080/",
     "height": 102
    },
    "colab_type": "code",
    "id": "VE-w5vmVYzaj",
    "outputId": "f3c874c5-ec86-4dcb-9ccd-9fee6aaad742"
   },
   "outputs": [
    {
     "name": "stderr",
     "output_type": "stream",
     "text": [
      "\n",
      "\n",
      "\n",
      "\n",
      "100%|██████████| 6/6 [06:49<00:00, 68.23s/it]\n"
     ]
    }
   ],
   "source": [
    "for generation in tqdm(range(number_of_generation)):\n",
    "    best_score, mean_score = np.max(scores_history), np.mean(scores_history)\n",
    "    print(f\"All-history: Best ROC-AUC = {round(best_score, 4)}, Mean ROC-AUC = {round(mean_score, 4)}\")\n",
    "\n",
    "    scores = train_population(\n",
    "        population=population,\n",
    "        xgb_train=xgb_train,\n",
    "        xgb_valid=xgb_valid,\n",
    "       y_valid=y_valid)\n",
    "\n",
    "    scores_history[generation, :] = scores\n",
    "\n",
    "    parents = select_new_parents(\n",
    "        population=population,\n",
    "        scores=scores,\n",
    "        num_parents=4)\n",
    "\n",
    "    children = crossover_uniform(\n",
    "        parents=parents,\n",
    "        children_size=(population_size[0] - parents.shape[0], 5)\n",
    "    )\n",
    "    children_mutated = mutation(children, number_of_parameters=5)\n",
    "    population[0:parents.shape[0], :] = parents\n",
    "    population[parents.shape[0]:, :] = children_mutated\n",
    "\n",
    "    params_history[(generation+1)*8 : (generation+1)*8+8 , :] = population\n",
    "    clear_output()\n",
    "\n",
    "scores_history = pd.DataFrame(scores_history)\n",
    "scores_history = scores_history.loc[:5]"
   ]
  },
  {
   "cell_type": "code",
   "execution_count": null,
   "metadata": {
    "colab": {},
    "colab_type": "code",
    "id": "GnXitNjIomit"
   },
   "outputs": [],
   "source": []
  },
  {
   "cell_type": "code",
   "execution_count": 38,
   "metadata": {
    "colab": {
     "base_uri": "https://localhost:8080/",
     "height": 500
    },
    "colab_type": "code",
    "id": "xy9TrK2-Yzal",
    "outputId": "6b528791-832d-42e3-e033-9be2118df6ba"
   },
   "outputs": [
    {
     "data": {
      "text/plain": [
       "<matplotlib.axes._subplots.AxesSubplot at 0x7f21b5419b00>"
      ]
     },
     "execution_count": 38,
     "metadata": {
      "tags": []
     },
     "output_type": "execute_result"
    },
    {
     "data": {
      "image/png": "[encoded data removed]",
      "text/plain": [
       "<Figure size 720x576 with 2 Axes>"
      ]
     },
     "metadata": {
      "needs_background": "light",
      "tags": []
     },
     "output_type": "display_data"
    }
   ],
   "source": [
    "fig, axes = plt.subplots(1, 1, figsize=(10, 8))\n",
    "sns.heatmap(scores_history, annot=True, fmt='.4g', linewidths=1, ax=axes)"
   ]
  },
  {
   "cell_type": "code",
   "execution_count": null,
   "metadata": {
    "colab": {},
    "colab_type": "code",
    "id": "ynKr9GET7I3q"
   },
   "outputs": [],
   "source": []
  }
 ],
 "metadata": {
  "colab": {
   "collapsed_sections": [],
   "name": "\"МО. Генетика. Часть 1.ipynb\"",
   "provenance": []
  },
  "kernelspec": {
   "display_name": "Python 3",
   "language": "python",
   "name": "python3"
  },
  "language_info": {
   "codemirror_mode": {
    "name": "ipython",
    "version": 3
   },
   "file_extension": ".py",
   "mimetype": "text/x-python",
   "name": "python",
   "nbconvert_exporter": "python",
   "pygments_lexer": "ipython3",
   "version": "3.7.3"
  }
 },
 "nbformat": 4,
 "nbformat_minor": 1
}
